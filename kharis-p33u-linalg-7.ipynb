{
 "cells": [
  {
   "cell_type": "markdown",
   "metadata": {
    "id": "Fz6ZRBodHoVV"
   },
   "source": [
    "# **TUGAS 7**\n",
    "\n",
    "Materi:\n",
    "- Least Squares\n",
    "- Least Squares Data Fitting"
   ]
  },
  {
   "cell_type": "code",
   "execution_count": 1,
   "metadata": {
    "id": "QxQsPrwOEuT4"
   },
   "outputs": [],
   "source": [
    "import numpy as np\n",
    "import pandas as pd\n",
    "import matplotlib.pyplot as plt"
   ]
  },
  {
   "cell_type": "markdown",
   "metadata": {
    "id": "h9PtnEsIEuT9"
   },
   "source": [
    "# **Least Squares**\n",
    "---\n",
    "Buat quadratical equation yang cocok untuk mem-fit kan data-data berikut:\n",
    "$(1, 10), (2.5, 7.5), (3, 2), (4, -1.5)$ menggunakan *least square*"
   ]
  },
  {
   "cell_type": "markdown",
   "metadata": {
    "id": "FPt4iDVLEuT9"
   },
   "source": [
    "---\n",
    "**Soal 1**\n",
    "\n",
    "- Quadratic equation akan berbentuk $\\hat{f}(t) = \\theta_{1} + \\theta_{2}.t + \\theta_{3}.t^2$\n",
    "- Buat vandermonde matriks (`A`) dari quadratic equation ini"
   ]
  },
  {
   "cell_type": "code",
   "execution_count": 2,
   "metadata": {
    "id": "4RLFyTqBEuT-"
   },
   "outputs": [],
   "source": [
    "# Jawab\n",
    "x = np.array([1,2.5,3,4])\n",
    "y = np.array([10,7.5,2,-1.5])\n",
    "A = lambda x: np.column_stack([x**i for i in range(3)])"
   ]
  },
  {
   "cell_type": "markdown",
   "metadata": {
    "id": "4E4f6Gf6EuT_"
   },
   "source": [
    "---\n",
    "**Soal 2**\n",
    "\n",
    "- Apabila $\\theta = (\\theta_1, \\theta_2, \\theta_3)$. Cari nilai $\\theta$"
   ]
  },
  {
   "cell_type": "code",
   "execution_count": 3,
   "metadata": {
    "id": "RwThYPnBEuUA"
   },
   "outputs": [
    {
     "data": {
      "text/plain": [
       "array([11.02      , -0.02666667, -0.8       ])"
      ]
     },
     "execution_count": 3,
     "metadata": {},
     "output_type": "execute_result"
    }
   ],
   "source": [
    "# Jawab\n",
    "model_fit = lambda x, y: np.linalg.inv(A(x).T @ A(x)) @ A(x).T @ y\n",
    "theta = model_fit(x,y)\n",
    "theta"
   ]
  },
  {
   "cell_type": "markdown",
   "metadata": {
    "id": "nWCwJsIhEuUB"
   },
   "source": [
    "---\n",
    "**Soal 3**\n",
    "\n",
    "- Cari RMSE antara y prediksi dan y aktual"
   ]
  },
  {
   "cell_type": "code",
   "execution_count": 4,
   "metadata": {
    "id": "j2ObiT5oEuUC"
   },
   "outputs": [
    {
     "name": "stdout",
     "output_type": "stream",
     "text": [
      "RMSE = 1.18\n"
     ]
    }
   ],
   "source": [
    "# Jawab\n",
    "model_eval = lambda x, theta: A(x) @ theta\n",
    "y_test = model_eval(x, theta)\n",
    "rmse_func = lambda y_pred, y_act: np.linalg.norm(y_pred-y_act)/((len(y_act)**0.5))\n",
    "rmse = rmse_func(model_eval(x, theta), y)\n",
    "print(f'RMSE = {rmse:.2f}')"
   ]
  },
  {
   "cell_type": "markdown",
   "metadata": {
    "id": "_Z259TQeEuUC"
   },
   "source": [
    "# **Benetton Sales**\n",
    "---\n",
    "- Diberikan data Sales dari Benetton (Perusahaan Clothing di Italia).\n",
    "- Data terdiri dari `Year`: tahun saat itu, `Sales`: sales yang terjadi (dalam Juta Euro), dan `Advertising`: cost ads yang dikeluarkan (dalam Juta Euro)\n",
    "- Anda diminta untuk mengestimasi nilai `Sales`"
   ]
  },
  {
   "cell_type": "code",
   "execution_count": 5,
   "metadata": {
    "colab": {
     "base_uri": "https://localhost:8080/",
     "height": 328
    },
    "executionInfo": {
     "elapsed": 379,
     "status": "ok",
     "timestamp": 1624608026984,
     "user": {
      "displayName": "Cahya Amalinadhi",
      "photoUrl": "",
      "userId": "05965076763431336474"
     },
     "user_tz": -420
    },
    "id": "VgOUGqVCEuUC",
    "outputId": "01c1399c-1af6-4cc7-bbb3-acde3c47d43c"
   },
   "outputs": [
    {
     "data": {
      "text/html": [
       "<div>\n",
       "<style scoped>\n",
       "    .dataframe tbody tr th:only-of-type {\n",
       "        vertical-align: middle;\n",
       "    }\n",
       "\n",
       "    .dataframe tbody tr th {\n",
       "        vertical-align: top;\n",
       "    }\n",
       "\n",
       "    .dataframe thead th {\n",
       "        text-align: right;\n",
       "    }\n",
       "</style>\n",
       "<table border=\"1\" class=\"dataframe\">\n",
       "  <thead>\n",
       "    <tr style=\"text-align: right;\">\n",
       "      <th></th>\n",
       "      <th>year</th>\n",
       "      <th>sales</th>\n",
       "      <th>advertising</th>\n",
       "    </tr>\n",
       "  </thead>\n",
       "  <tbody>\n",
       "    <tr>\n",
       "      <th>0</th>\n",
       "      <td>1</td>\n",
       "      <td>651</td>\n",
       "      <td>23</td>\n",
       "    </tr>\n",
       "    <tr>\n",
       "      <th>1</th>\n",
       "      <td>2</td>\n",
       "      <td>762</td>\n",
       "      <td>26</td>\n",
       "    </tr>\n",
       "    <tr>\n",
       "      <th>2</th>\n",
       "      <td>3</td>\n",
       "      <td>856</td>\n",
       "      <td>30</td>\n",
       "    </tr>\n",
       "    <tr>\n",
       "      <th>3</th>\n",
       "      <td>4</td>\n",
       "      <td>1063</td>\n",
       "      <td>34</td>\n",
       "    </tr>\n",
       "    <tr>\n",
       "      <th>4</th>\n",
       "      <td>5</td>\n",
       "      <td>1190</td>\n",
       "      <td>43</td>\n",
       "    </tr>\n",
       "    <tr>\n",
       "      <th>5</th>\n",
       "      <td>6</td>\n",
       "      <td>1298</td>\n",
       "      <td>48</td>\n",
       "    </tr>\n",
       "    <tr>\n",
       "      <th>6</th>\n",
       "      <td>7</td>\n",
       "      <td>1421</td>\n",
       "      <td>52</td>\n",
       "    </tr>\n",
       "    <tr>\n",
       "      <th>7</th>\n",
       "      <td>8</td>\n",
       "      <td>1440</td>\n",
       "      <td>57</td>\n",
       "    </tr>\n",
       "    <tr>\n",
       "      <th>8</th>\n",
       "      <td>9</td>\n",
       "      <td>1518</td>\n",
       "      <td>58</td>\n",
       "    </tr>\n",
       "  </tbody>\n",
       "</table>\n",
       "</div>"
      ],
      "text/plain": [
       "   year  sales  advertising\n",
       "0     1    651           23\n",
       "1     2    762           26\n",
       "2     3    856           30\n",
       "3     4   1063           34\n",
       "4     5   1190           43\n",
       "5     6   1298           48\n",
       "6     7   1421           52\n",
       "7     8   1440           57\n",
       "8     9   1518           58"
      ]
     },
     "execution_count": 5,
     "metadata": {},
     "output_type": "execute_result"
    }
   ],
   "source": [
    "data = pd.read_csv('data_linalg_tugas07/benetton_sales.csv')\n",
    "data"
   ]
  },
  {
   "cell_type": "markdown",
   "metadata": {
    "id": "rd5_mNnaEuUD"
   },
   "source": [
    "- Anda ingin mengestimasi sales menggunakan data advertising\n",
    "- Anda buat fungsi berikut $\\text{sales} = a + b\\times\\text{ads}$\n",
    "- Anda akan selesaikan ini dengan analisis *least squares*"
   ]
  },
  {
   "cell_type": "markdown",
   "metadata": {
    "id": "7NhT3IPVEuUD"
   },
   "source": [
    "---\n",
    "**Soal 4**\n",
    "\n",
    "- Buat matriks vandermonde $A$"
   ]
  },
  {
   "cell_type": "code",
   "execution_count": 6,
   "metadata": {
    "id": "lV0ZfAZAEuUD"
   },
   "outputs": [],
   "source": [
    "# Jawab\n",
    "n = len(data)\n",
    "A = np.column_stack((np.ones(n), data['advertising']))"
   ]
  },
  {
   "cell_type": "markdown",
   "metadata": {
    "id": "9Oxh990HEuUE"
   },
   "source": [
    "---\n",
    "**Soal 5**\n",
    "\n",
    "- Cari nilai dari $a$ dan $b$"
   ]
  },
  {
   "cell_type": "code",
   "execution_count": 7,
   "metadata": {
    "id": "EjyGfG2EEuUE"
   },
   "outputs": [
    {
     "name": "stdout",
     "output_type": "stream",
     "text": [
      "a = 167.68\n",
      "b = 23.42\n"
     ]
    }
   ],
   "source": [
    "# Jawab\n",
    "x = np.linalg.inv(A.T @ A) @ A.T @ data['sales']\n",
    "a = x[0]\n",
    "b = x[1]\n",
    "print(f'a = {a:.2f}')\n",
    "print(f'b = {b:.2f}')"
   ]
  },
  {
   "cell_type": "markdown",
   "metadata": {
    "id": "r4vhMNbnEuUE"
   },
   "source": [
    "---\n",
    "**Soal 6**\n",
    "\n",
    "- Carilah RMSE dari model ini"
   ]
  },
  {
   "cell_type": "code",
   "execution_count": 8,
   "metadata": {
    "id": "pp7qqcXqEuUE"
   },
   "outputs": [
    {
     "name": "stdout",
     "output_type": "stream",
     "text": [
      "RMSE = 45.71\n"
     ]
    }
   ],
   "source": [
    "# Jawab\n",
    "rmse = np.linalg.norm(data['sales'] - A@x)/(n**0.5)\n",
    "print(f'RMSE = {rmse:.2f}')"
   ]
  },
  {
   "cell_type": "markdown",
   "metadata": {
    "id": "y6-_-Y-sEuUF"
   },
   "source": [
    "# **Benetton Sales - Estimasi lain**\n",
    "---\n",
    "- Sekarang Anda ingin mengestimasi nilai `sales` dengan cara lain\n",
    "- Persamaan yang Anda buat adalah $\\text{sales} = a + b\\times\\text{ads} + c\\times\\text{year}$ (melakukan multi-linear regression)"
   ]
  },
  {
   "cell_type": "markdown",
   "metadata": {
    "id": "6cILIYdpEuUF"
   },
   "source": [
    "---\n",
    "**Soal 7**\n",
    "\n",
    "- Buatlah matriks vandermonde $A$ dari model ini"
   ]
  },
  {
   "cell_type": "code",
   "execution_count": 9,
   "metadata": {
    "id": "62Q2GyZKEuUG"
   },
   "outputs": [],
   "source": [
    "# Jawab\n",
    "A = np.column_stack([np.ones(n), data['advertising'], data['year']])"
   ]
  },
  {
   "cell_type": "markdown",
   "metadata": {
    "id": "T19sp3y0EuUG"
   },
   "source": [
    "---\n",
    "**Soal 8**\n",
    "\n",
    "- Cari nilai $a$, $b$, dan $c$"
   ]
  },
  {
   "cell_type": "code",
   "execution_count": 10,
   "metadata": {
    "id": "_SC9HCUpEuUG"
   },
   "outputs": [
    {
     "name": "stdout",
     "output_type": "stream",
     "text": [
      "323.5374178503887 13.989612041550465 46.60038159848554\n"
     ]
    }
   ],
   "source": [
    "# Jawab\n",
    "x = np.linalg.inv(A.T @ A) @ A.T @ data['sales']\n",
    "a = x[0]\n",
    "b = x[1]\n",
    "c = x[2]\n",
    "print(a,b,c)"
   ]
  },
  {
   "cell_type": "markdown",
   "metadata": {
    "id": "gKy55yuoEuUH"
   },
   "source": [
    "---\n",
    "**Soal 9**\n",
    "\n",
    "- Carilah RMSE model ini"
   ]
  },
  {
   "cell_type": "code",
   "execution_count": 11,
   "metadata": {
    "id": "CbzgDElBEuUH"
   },
   "outputs": [
    {
     "name": "stdout",
     "output_type": "stream",
     "text": [
      "RMSE = 42.72\n"
     ]
    }
   ],
   "source": [
    "# Jawab\n",
    "rmse = np.linalg.norm(data['sales'] - A@x)/(n**0.5)\n",
    "print(f'RMSE = {rmse:.2f}')"
   ]
  },
  {
   "cell_type": "markdown",
   "metadata": {
    "id": "N16eUY8lEuUH"
   },
   "source": [
    "---\n",
    "**Soal 10**\n",
    "\n",
    "- Apa pendapat Anda mengenai 2 model di atas?\n",
    "- Model mana yang Anda pilih?"
   ]
  },
  {
   "cell_type": "code",
   "execution_count": 12,
   "metadata": {
    "id": "Hg4IDOEUEuUI"
   },
   "outputs": [],
   "source": [
    "# Jawab\n",
    "pendapat = \"\"\"\n",
    "              1. Model 2 memberikan RMSE yang lebih kecil daripada model 1, dalam artian model 2\n",
    "              dapat memodelkan data lebih baik\n",
    "              2. Akan tetapi harus dilihat dulu apa pengaruh variabel tahun terhadap sales.\n",
    "                  a. Jika dilihat, dengan kenaikan tahun memang terlihat ada penambahan budget\n",
    "                  advertising. Hal ini mungkin keputusan yang diambil secara sadar oleh perusahaan\n",
    "                  b. Akan tetapi, nilai tahun pada data (1,2, dst) sebenarnya tidak memberikan\n",
    "                  arti terhadap sales yang dihasilkan perusahaan, sehingga hal ini malah akan\n",
    "                  menimbulkan bias (sales naik karena advertising naik, advertising naik karena\n",
    "                  secara sadar, perusahaan selalu meningkatkan budget advertising tiap tahun)\n",
    "              3. Meskipun model 2 memberi error yang lebih rendah, namun perlu \n",
    "              dilihat apakah variabel yg digunakan untuk memprediksi memiliki arti \n",
    "           \"\"\"        # silahkan isi pendapat terhadap kedua model dalam bentuk string\n",
    "\n",
    "model_terbaik = 1  # isi dengan 1 atau 2"
   ]
  },
  {
   "cell_type": "markdown",
   "metadata": {
    "id": "HSGvu737EuUI"
   },
   "source": [
    "# **Data Electronic Sales Selama COVID**\n",
    "---\n",
    "- Pada beberapa minggu awal mewabahnya COVID 19, terjadi perubahan kondisi sales pada suatu toko\n",
    "- Berikut adalah data sales antara pembelian `online` dan `in-stores`"
   ]
  },
  {
   "cell_type": "code",
   "execution_count": 13,
   "metadata": {
    "colab": {
     "base_uri": "https://localhost:8080/",
     "height": 204
    },
    "executionInfo": {
     "elapsed": 368,
     "status": "ok",
     "timestamp": 1624608910267,
     "user": {
      "displayName": "Cahya Amalinadhi",
      "photoUrl": "",
      "userId": "05965076763431336474"
     },
     "user_tz": -420
    },
    "id": "6d_7XfDQEuUI",
    "outputId": "4626909b-76b3-46d6-e301-e85c802c12ec"
   },
   "outputs": [
    {
     "data": {
      "text/html": [
       "<div>\n",
       "<style scoped>\n",
       "    .dataframe tbody tr th:only-of-type {\n",
       "        vertical-align: middle;\n",
       "    }\n",
       "\n",
       "    .dataframe tbody tr th {\n",
       "        vertical-align: top;\n",
       "    }\n",
       "\n",
       "    .dataframe thead th {\n",
       "        text-align: right;\n",
       "    }\n",
       "</style>\n",
       "<table border=\"1\" class=\"dataframe\">\n",
       "  <thead>\n",
       "    <tr style=\"text-align: right;\">\n",
       "      <th></th>\n",
       "      <th>week</th>\n",
       "      <th>online sales</th>\n",
       "      <th>in-store sales</th>\n",
       "    </tr>\n",
       "  </thead>\n",
       "  <tbody>\n",
       "    <tr>\n",
       "      <th>0</th>\n",
       "      <td>1</td>\n",
       "      <td>100</td>\n",
       "      <td>97</td>\n",
       "    </tr>\n",
       "    <tr>\n",
       "      <th>1</th>\n",
       "      <td>2</td>\n",
       "      <td>107</td>\n",
       "      <td>99</td>\n",
       "    </tr>\n",
       "    <tr>\n",
       "      <th>2</th>\n",
       "      <td>3</td>\n",
       "      <td>103</td>\n",
       "      <td>104</td>\n",
       "    </tr>\n",
       "    <tr>\n",
       "      <th>3</th>\n",
       "      <td>4</td>\n",
       "      <td>90</td>\n",
       "      <td>100</td>\n",
       "    </tr>\n",
       "    <tr>\n",
       "      <th>4</th>\n",
       "      <td>5</td>\n",
       "      <td>90</td>\n",
       "      <td>99</td>\n",
       "    </tr>\n",
       "  </tbody>\n",
       "</table>\n",
       "</div>"
      ],
      "text/plain": [
       "   week  online sales  in-store sales\n",
       "0     1           100              97\n",
       "1     2           107              99\n",
       "2     3           103             104\n",
       "3     4            90             100\n",
       "4     5            90              99"
      ]
     },
     "execution_count": 13,
     "metadata": {},
     "output_type": "execute_result"
    }
   ],
   "source": [
    "data = pd.read_csv('data_linalg_tugas07/electronic_sales.csv')\n",
    "data.head(5)"
   ]
  },
  {
   "cell_type": "code",
   "execution_count": 14,
   "metadata": {
    "colab": {
     "base_uri": "https://localhost:8080/",
     "height": 229
    },
    "executionInfo": {
     "elapsed": 421,
     "status": "ok",
     "timestamp": 1624608917815,
     "user": {
      "displayName": "Cahya Amalinadhi",
      "photoUrl": "",
      "userId": "05965076763431336474"
     },
     "user_tz": -420
    },
    "id": "vaTPm7cgEuUJ",
    "outputId": "267ac5df-49d5-4a7f-ff04-3866a3048f08"
   },
   "outputs": [
    {
     "data": {
      "image/png": "[encoded data removed]",
      "text/plain": [
       "<Figure size 720x216 with 1 Axes>"
      ]
     },
     "metadata": {
      "needs_background": "light"
     },
     "output_type": "display_data"
    }
   ],
   "source": [
    "fig = plt.figure(figsize=(10,3))\n",
    "plt.scatter(data['week'], data['in-store sales'], c='b')\n",
    "plt.scatter(data['week'], data['online sales'], c='r')\n",
    "plt.plot(data['week'], data['in-store sales'], 'b', label='in-store sales')\n",
    "plt.plot(data['week'], data['online sales'], 'r', label='online sales')\n",
    "\n",
    "plt.xlabel('week')\n",
    "plt.ylabel('sales')\n",
    "plt.xlim([0, 18])\n",
    "plt.ylim([0, 200])\n",
    "plt.grid(which='both')\n",
    "plt.legend()\n",
    "plt.show()"
   ]
  },
  {
   "cell_type": "markdown",
   "metadata": {
    "id": "myV-8nFFEuUJ"
   },
   "source": [
    "- **Online sales** terlihat menjanjikan\n",
    "- Tapi pada 2 minggu terakhir, nilai online sales *flat*\n",
    "- Anda diminta untuk membuat model untuk mengestimasi online sales pada minggu selanjutnya"
   ]
  },
  {
   "cell_type": "markdown",
   "metadata": {
    "id": "iiKpIGTjEuUJ"
   },
   "source": [
    "---\n",
    "\n",
    "- Melihat hal tersebut, Anda mengatur strategi pemodelan\n",
    "- Anda mencoba membuat model konstan hingga polinom: $\\hat{f} = \\theta_{1} + \\theta_{2}.X + ... + \\theta_{p}.X^{p-1}$\n",
    "- Untuk memastikan performa model, Anda membandingkan RMSE pada training & test data set"
   ]
  },
  {
   "cell_type": "markdown",
   "metadata": {
    "id": "81LDGiBDEuUK"
   },
   "source": [
    "---\n",
    "**Soal 11**\n",
    "\n",
    "- Langkah pertama, Anda membuat pembagian antara data Training & Test\n",
    "- Data training diambil dari data minggu ke-3 hingga 15\n",
    "- Data sisa adalah data test\n",
    "- Buatlah pembagian data tersebut"
   ]
  },
  {
   "cell_type": "code",
   "execution_count": 15,
   "metadata": {
    "id": "xR99PAyAEuUK"
   },
   "outputs": [],
   "source": [
    "# Data initial\n",
    "X = data['week']\n",
    "y = data['online sales']\n",
    "\n",
    "# Data yang telah di split\n",
    "train = range(2,15)\n",
    "X_train = X[train]\n",
    "y_train = y[train]\n",
    "X_test = np.concatenate((X[0:2],X[15:17]))\n",
    "y_test = np.concatenate((y[0:2],y[15:17]))"
   ]
  },
  {
   "cell_type": "markdown",
   "metadata": {
    "id": "jYuhC1qzEuUK"
   },
   "source": [
    "---\n",
    "**Soal 12**\n",
    "\n",
    "- Buat lambda function untuk men-generate matriks vandermonde\n",
    "- Input adalah nilai x dan p (degrees polinom + 1)\n",
    "- p = 1 -> fungsi konstan\n",
    "- p = 2 -> fungsi linear\n",
    "- dst"
   ]
  },
  {
   "cell_type": "code",
   "execution_count": 16,
   "metadata": {
    "id": "AhGblgD_EuUL"
   },
   "outputs": [],
   "source": [
    "# Jawab\n",
    "vandermonde = lambda x,p: np.column_stack([x**i for i in range(p)])"
   ]
  },
  {
   "cell_type": "markdown",
   "metadata": {
    "id": "XpE17v6FEuUL"
   },
   "source": [
    "---\n",
    "**Soal 13**\n",
    "\n",
    "- Lengkapi fungsi berikut untuk melakukan iterasi.\n",
    "- Tentukan degrees maksimum dalam iterasi.\n",
    "- Dan Jalankan Programnya untuk menjawab soal nomor berikutnya."
   ]
  },
  {
   "cell_type": "code",
   "execution_count": 17,
   "metadata": {
    "id": "obNPVNxQQg1O"
   },
   "outputs": [],
   "source": [
    "# Jawab\n",
    "def polyLS(X_train, y_train, X_test, y_test, p):\n",
    "    \"\"\"\n",
    "      Input:\n",
    "        X_train, y_train    : training data\n",
    "        X_test, y_test      : test data\n",
    "        p                   : degree polynom\n",
    "\n",
    "      Output:\n",
    "        error_train         : list menyimpan rmse model dari train data\n",
    "        error_test          : list menyimpan rmse model dari test data\n",
    "        theta               : list menyimpan theta ditiap degree polynom dari 1-p\n",
    "    \"\"\"\n",
    "    \n",
    "    # error\n",
    "    error_train = np.zeros(p)\n",
    "    error_test = np.zeros(p)\n",
    "    \n",
    "    for p_ in range(1,p+1):\n",
    "        A = vandermonde(X_train,p_)\n",
    "        theta = np.linalg.inv(A.T @ A) @ A.T @ y_train\n",
    "        error_train[p_-1] = np.linalg.norm(A @ theta - y_train)/(len(y_train)**0.5)\n",
    "        error_test[p_-1] = np.linalg.norm(vandermonde(X_test,p_)@theta - y_test)/(len(y_test)**0.5)\n",
    "    \n",
    "    return (error_train, error_test, theta)"
   ]
  },
  {
   "cell_type": "code",
   "execution_count": 18,
   "metadata": {},
   "outputs": [
    {
     "data": {
      "text/plain": [
       "(array([25.53243673, 16.85198604, 16.57258984, 16.54324966, 13.62742656,\n",
       "        12.74264478]),\n",
       " array([ 21.08541379,  19.59072349,  19.35233932,  13.78126912,\n",
       "        120.67559011, 179.75392107]),\n",
       " array([ 7.11888157e+00,  1.10277149e+02, -4.34629782e+01,  7.13301282e+00,\n",
       "        -5.05553270e-01,  1.29147813e-02]))"
      ]
     },
     "execution_count": 18,
     "metadata": {},
     "output_type": "execute_result"
    }
   ],
   "source": [
    "p = 6\n",
    "a = polyLS(X_train, y_train, X_test, y_test, p)\n",
    "a"
   ]
  },
  {
   "cell_type": "code",
   "execution_count": 19,
   "metadata": {},
   "outputs": [
    {
     "data": {
      "image/png": "[encoded data removed]",
      "text/plain": [
       "<Figure size 432x288 with 1 Axes>"
      ]
     },
     "metadata": {
      "needs_background": "light"
     },
     "output_type": "display_data"
    }
   ],
   "source": [
    "plt.plot(np.arange(p), a[0], 'b-o', label = 'Train')\n",
    "plt.plot(np.arange(p), a[1], 'r-x', label = 'Test')\n",
    "plt.xlabel('Degree')\n",
    "plt.ylabel('Relative RMS error')\n",
    "plt.legend\n",
    "plt.show()"
   ]
  },
  {
   "cell_type": "markdown",
   "metadata": {
    "id": "-027W9zkEuUL"
   },
   "source": [
    "---\n",
    "**Soal 14**\n",
    "\n",
    "- Pilih degrees polinom dari model yang terbaik\n",
    "- Simpan dalam variabel `theta_best`"
   ]
  },
  {
   "cell_type": "code",
   "execution_count": 32,
   "metadata": {
    "id": "EUylRo92EuUM"
   },
   "outputs": [
    {
     "data": {
      "text/plain": [
       "array([87.67,  0.69,  0.25])"
      ]
     },
     "execution_count": 32,
     "metadata": {},
     "output_type": "execute_result"
    }
   ],
   "source": [
    "# Jawab\n",
    "best_degree = 2+1 # polinomial orde 2\n",
    "A = vandermonde(X_train, p=best_degree)\n",
    "theta_best = np.linalg.inv(A.T @ A) @ A.T @ y_train\n",
    "np.round(theta_best, 2)"
   ]
  },
  {
   "cell_type": "markdown",
   "metadata": {},
   "source": [
    "---\n",
    "**Soal 15**\n",
    "\n",
    "- Menggunakan model ini, coba estimasi nilai sales yang terjadi dari awal hingga minggu 36\n",
    "- Buat visualisasi data agar dapat dilihat dengan jelas"
   ]
  },
  {
   "cell_type": "code",
   "execution_count": 33,
   "metadata": {},
   "outputs": [
    {
     "data": {
      "text/plain": [
       "array([ 88.60939061,  90.04195804,  91.96703297,  94.38461538,\n",
       "        97.29470529, 100.6973027 , 104.59240759, 108.98001998,\n",
       "       113.86013986, 119.23276723, 125.0979021 , 131.45554446,\n",
       "       138.30569431, 145.64835165, 153.48351648, 161.81118881,\n",
       "       170.63136863, 179.94405594, 189.74925075, 200.04695305,\n",
       "       210.83716284, 222.11988012, 233.8951049 , 246.16283716,\n",
       "       258.92307692, 272.17582418, 285.92107892, 300.15884116,\n",
       "       314.88911089, 330.11188811, 345.82717283, 362.03496503,\n",
       "       378.73526474, 395.92807193, 413.61338661, 431.79120879])"
      ]
     },
     "execution_count": 33,
     "metadata": {},
     "output_type": "execute_result"
    }
   ],
   "source": [
    "# Jawab\n",
    "x = np.arange(1,37)\n",
    "x_ = lambda x: np.column_stack([x**i for i in range(best_degree)])\n",
    "model_eval = lambda x, theta: x_(x) @ theta\n",
    "y_prediksi = model_eval(x,theta_best)\n",
    "y_prediksi"
   ]
  },
  {
   "cell_type": "code",
   "execution_count": 34,
   "metadata": {},
   "outputs": [
    {
     "data": {
      "image/png": "[encoded data removed]",
      "text/plain": [
       "<Figure size 720x216 with 1 Axes>"
      ]
     },
     "metadata": {
      "needs_background": "light"
     },
     "output_type": "display_data"
    }
   ],
   "source": [
    "fig = plt.figure(figsize=(10,3))\n",
    "plt.scatter(data['week'], data['in-store sales'], c='b')\n",
    "plt.scatter(data['week'], data['online sales'], c='r')\n",
    "plt.plot(data['week'], data['in-store sales'], 'b', label='in-store sales')\n",
    "plt.plot(data['week'], data['online sales'], 'r', label='online sales')\n",
    "plt.plot(x, y_prediksi, '--r', label='predicted online sales orde 2')\n",
    "\n",
    "plt.xlabel('week')\n",
    "plt.ylabel('sales')\n",
    "plt.xlim([0, 37])\n",
    "plt.ylim([0, 250])\n",
    "plt.grid(which='both')\n",
    "plt.legend()\n",
    "plt.show()"
   ]
  },
  {
   "cell_type": "markdown",
   "metadata": {
    "id": "Xw8RzihHEuUO"
   },
   "source": [
    "---\n",
    "**Soal 16**\n",
    "\n",
    "- Tuliskan pendapatmu mengenai estimasi sales kedepannya\n",
    "- Simpan dalam variabel `pendapat`"
   ]
  },
  {
   "cell_type": "code",
   "execution_count": 35,
   "metadata": {
    "id": "nGWx747LEuUO"
   },
   "outputs": [],
   "source": [
    "pendapat = \"\"\"\n",
    "              Estimasi sales kedepan dapat didekati dengan beberapa model polinomial.\n",
    "              Pemilihan model umumnya mempertimbangkan selsih terkecil RMSE train dengan\n",
    "              RMSE test. Dalam kasus ini polinomial orde-4\n",
    "              Namun jika melihat tren yang dihasilkan, maka sulit untuk menjustifikasi\n",
    "              bahwa polinomial orde-4  dapat memprediksi model online sales dengan baik\n",
    "              karena cenderung terdapat overfitting\n",
    "              Dengan melihat tren yang dihasilkan, model terbaik untuk memprediksi online sales\n",
    "              adalah model polinomial orde-1 (linear) atau orde-2\n",
    "           \"\"\""
   ]
  },
  {
   "cell_type": "code",
   "execution_count": null,
   "metadata": {},
   "outputs": [],
   "source": []
  }
 ],
 "metadata": {
  "colab": {
   "collapsed_sections": [
    "h9PtnEsIEuT9",
    "_Z259TQeEuUC",
    "y6-_-Y-sEuUF",
    "HSGvu737EuUI"
   ],
   "name": "Tugas 7.ipynb",
   "provenance": []
  },
  "kernelspec": {
   "display_name": "Python 3",
   "language": "python",
   "name": "python3"
  },
  "language_info": {
   "codemirror_mode": {
    "name": "ipython",
    "version": 3
   },
   "file_extension": ".py",
   "mimetype": "text/x-python",
   "name": "python",
   "nbconvert_exporter": "python",
   "pygments_lexer": "ipython3",
   "version": "3.8.10"
  }
 },
 "nbformat": 4,
 "nbformat_minor": 4
}
